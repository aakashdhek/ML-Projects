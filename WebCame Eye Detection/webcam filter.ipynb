{
 "cells": [
  {
   "cell_type": "code",
   "execution_count": 1,
   "metadata": {},
   "outputs": [],
   "source": []
  },
  {
   "cell_type": "code",
   "execution_count": 2,
   "metadata": {},
   "outputs": [],
   "source": [
    "import cv2\n",
    "import numpy as np\n",
    "#storing the video in cam object ---> 0 : web cam id\n",
    "cam = cv2.VideoCapture(0)\n",
    "#pre trained haarcascade for eyes\n",
    "eyes_haarcascade = cv2.CascadeClassifier(\"frontalEyes35x16.xml\")\n",
    "while True:\n",
    "    ret, image = cam.read()\n",
    "    #if image is not captured, capture next image\n",
    "    if ret==False:\n",
    "        continue\n",
    "    #converting from BGR format to gray\n",
    "    gray_image = cv2.cvtColor(image,cv2.COLOR_BGR2GRAY)\n",
    "    eyes_dim = eyes_haarcascade.detectMultiScale(gray_image,1.1,5)\n",
    "    for (x,y,w,h) in eyes_dim:\n",
    "        image = cv2.rectangle( image, (x,y), (x+h , y+w), (255,0,0), 3 )\n",
    "    cv2.imshow(\"image\",image)\n",
    "    \n",
    "    #break when 'b' is presed\n",
    "    if cv2.waitKey(1) & 0xFF == ord('b'):\n",
    "        break;\n",
    "\n",
    "cam.release()\n",
    "cv2.destroyAllWindows()\n",
    "    "
   ]
  },
  {
   "cell_type": "code",
   "execution_count": null,
   "metadata": {},
   "outputs": [],
   "source": []
  }
 ],
 "metadata": {
  "kernelspec": {
   "display_name": "Python 3",
   "language": "python",
   "name": "python3"
  },
  "language_info": {
   "codemirror_mode": {
    "name": "ipython",
    "version": 3
   },
   "file_extension": ".py",
   "mimetype": "text/x-python",
   "name": "python",
   "nbconvert_exporter": "python",
   "pygments_lexer": "ipython3",
   "version": "3.8.5"
  }
 },
 "nbformat": 4,
 "nbformat_minor": 4
}
